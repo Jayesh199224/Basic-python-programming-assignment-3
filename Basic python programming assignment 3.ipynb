{
 "cells": [
  {
   "cell_type": "code",
   "execution_count": 27,
   "metadata": {},
   "outputs": [
    {
     "name": "stdout",
     "output_type": "stream",
     "text": [
      "Please enter the number of your wish : -0.00001\n",
      "the number you have entered is negative\n"
     ]
    }
   ],
   "source": [
    "#1.\tWrite a Python Program to Check if a Number is Positive, Negative or Zero?\n",
    "num =  float(input(\"Please enter the number of your wish : \"))\n",
    "if num == 0 :\n",
    "    print(\"The number you have entered is zero\")\n",
    "elif num > 0 :\n",
    "    print(\" the number you have entered is positive\")\n",
    "else :\n",
    "    print(\"the number you have entered is negative\")"
   ]
  },
  {
   "cell_type": "code",
   "execution_count": 32,
   "metadata": {},
   "outputs": [
    {
     "name": "stdout",
     "output_type": "stream",
     "text": [
      "Enter the number : 5\n",
      "The number you hvae entered is odd\n"
     ]
    }
   ],
   "source": [
    "#2.\tWrite a Python Program to Check if a Number is Odd or Even?\n",
    "number = int(input(\"Enter the number : \"))\n",
    "if number % 2 != 0:\n",
    "    print(\"The number you hvae entered is odd\")\n",
    "else :\n",
    "    print(\"the number you have entered is even\")"
   ]
  },
  {
   "cell_type": "code",
   "execution_count": 28,
   "metadata": {},
   "outputs": [
    {
     "name": "stdout",
     "output_type": "stream",
     "text": [
      "Enter the year2020\n",
      "this is a leap year\n"
     ]
    }
   ],
   "source": [
    "#3.\tWrite a Python Program to Check Leap Year?\n",
    "year = int (input(\"Enter the year\"))\n",
    "\n",
    "if year % 4 == 0 :\n",
    "    print(\"this is a leap year\")\n",
    "\n",
    "else :\n",
    "    print(\"this is not a leap year\")\n",
    "\n",
    "\n"
   ]
  },
  {
   "cell_type": "code",
   "execution_count": 26,
   "metadata": {},
   "outputs": [
    {
     "name": "stdout",
     "output_type": "stream",
     "text": [
      "enter the number : 66\n",
      "it is not a prime number\n"
     ]
    }
   ],
   "source": [
    "#4.\tWrite a Python Program to Check Prime Number?\n",
    "n = int(input(\"enter the number : \"))\n",
    "if n > 1 :\n",
    " \n",
    "    "
   ]
  },
  {
   "cell_type": "code",
   "execution_count": 14,
   "metadata": {},
   "outputs": [
    {
     "ename": "SyntaxError",
     "evalue": "invalid syntax (<ipython-input-14-532262a976c0>, line 5)",
     "output_type": "error",
     "traceback": [
      "\u001b[1;36m  File \u001b[1;32m\"<ipython-input-14-532262a976c0>\"\u001b[1;36m, line \u001b[1;32m5\u001b[0m\n\u001b[1;33m    if i > 1\u001b[0m\n\u001b[1;37m             ^\u001b[0m\n\u001b[1;31mSyntaxError\u001b[0m\u001b[1;31m:\u001b[0m invalid syntax\n"
     ]
    }
   ],
   "source": [
    "#5.\tWrite a Python Program to Print all Prime Numbers in an Interval of 1-10000?\n",
    "m = 1\n",
    "l = 1000\n",
    "\n"
   ]
  },
  {
   "cell_type": "code",
   "execution_count": null,
   "metadata": {},
   "outputs": [],
   "source": []
  },
  {
   "cell_type": "code",
   "execution_count": null,
   "metadata": {},
   "outputs": [],
   "source": []
  },
  {
   "cell_type": "code",
   "execution_count": null,
   "metadata": {},
   "outputs": [],
   "source": []
  }
 ],
 "metadata": {
  "kernelspec": {
   "display_name": "Python 3",
   "language": "python",
   "name": "python3"
  },
  "language_info": {
   "codemirror_mode": {
    "name": "ipython",
    "version": 3
   },
   "file_extension": ".py",
   "mimetype": "text/x-python",
   "name": "python",
   "nbconvert_exporter": "python",
   "pygments_lexer": "ipython3",
   "version": "3.8.5"
  }
 },
 "nbformat": 4,
 "nbformat_minor": 4
}
